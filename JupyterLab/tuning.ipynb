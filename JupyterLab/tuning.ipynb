y = []
u = []
t = []

# --- 初期設定 --------------------------
Tend = 1   # 実行時間 [s]
uref = 4   # 指令電圧 [V]
# --- 初期設定（ここまで） ----------------

with serial.Serial('/dev/cu.usbmodem14201', 115200, timeout=1) as ser:
        
    while ser.isOpen() == True:

        # Arduinoへデータを送信
        msg = str(uref) + 'e'
        ser.write(msg.encode()) 
        ser.flush()
    
        # Arduinoからデータを受信
        buf = ser.readline().decode('utf8').strip()
        line = buf.split()
        if len(line) > 2:
            ang = float(line[1])
            t = np.append(t, float(line[0]))
            y = np.append(y, float(line[1]))
            u = np.append(u, float(line[2]))
        
            if float(line[0]) >= Tend:
                break

    ser.close()

fig, ax = plt.subplots(figsize=(3, 2.3))
ax.plot(t, y, c='k')
plot_set(ax, 'time [s]', 'angle [deg]')
ax.set_ylim(-150, 680)
#fig.savefig("step_angle.pdf", transparent=True, bbox_inches="tight", pad_inches=0.0)

yslice = y[20:50]
tslice = t[20:50]

fig, ax = plt.subplots(figsize=(3, 2.3))
ax.plot(t, y)
ax.plot(t, np.poly1d(np.polyfit(tslice, yslice, 1))(t))
plot_set(ax, 'time [s]', 'angle [deg]')
#fig.savefig("fitting.pdf", transparent=True, bbox_inches="tight", pad_inches=0.0)

p = np.polyfit(tslice, yslice, 1)
R = p[0]/uref
L = -p[1]/p[0]
print(R,L)

kP = 1.2/R/L
kI = kP/2/L
kD = 0.5*L*kP
print(kP, kI, kD)


