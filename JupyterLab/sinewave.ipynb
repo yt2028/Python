import math
import time

y = []
u = []
t = []

# --- 初期設定 --------------------------
ratio = 30 # 減速比
ang_ref = 0 # 角度の目標値 [deg] sin
Tend = 50   # 実行時間 [s]
uref = 12   # 指令電圧 [V]
Ts = 0.01  # サンプリング周期 [s]
ang = 0
ang_old = 0
dang_old = 0
error_itg = 0
t0 = time.perf_counter() # [ns]
fq = 0.5 # [Hz] 

# ステップ応答法
kP = 1.2/R/L
kI = kP/2/L
kD = 0.5*L*kP
# --- 初期設定（ここまで） ----------------


with serial.Serial('COM6', 115200, timeout=1) as ser:
        
    while ser.isOpen() == True:
        ang_ref = 30 * ratio * math.sin((time.perf_counter()-t0) * fq * 2 * math.pi)
        error = ang_ref - ang
        # 微分値の計算（擬似微分）：リスト５ 
        dang = 50.0 * (ang - ang_old) + 0.6065 * dang_old;  # [deg/s]
        dang_old = dang
        ang_old = ang
        # 積分値の計算
        error_itg += Ts * error
        # 制御入力（PI-D制御）
        uref = kP * error + kI * error_itg - kD * dang
        # --- 制御入力の計算ここまで -------------------
        
        # Arduinoへデータを送信
        msg = str(uref) + 'e'
        ser.write(msg.encode()) 
        ser.flush()
    
        # Arduinoからデータを受信
        buf = ser.readline().decode('utf8').strip()
        line = buf.split()
        if len(line) > 2:
            ang = float(line[1])
            t = np.append(t, float(line[0]))
            y = np.append(y, float(line[1]))
            u = np.append(u, float(line[2]))
        
            if float(line[0]) >= Tend:
                break

    ser.close()
