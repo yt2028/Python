y = []
u = []
t = []

# --- 初期設定 --------------------------
ang_ref = 30 # 角度の目標値 [deg]
Tend = 3   # 実行時間 [s]
uref = 2   # 指令電圧 [V]
ang = 0
kP = 0.06   # Pゲイン（入力の最大値の見積もり：(30-0)*0.12 = 3.6V）
# --- 初期設定（ここまで） ----------------

with serial.Serial('/dev/cu.usbmodem14201', 115200, timeout=1) as ser:
        
    while ser.isOpen() == True:

        # --- 制御入力の計算 --------------------------
        uref = kP * (ang_ref - ang)
        # --- 制御入力の計算ここまで -------------------
        
        # Arduinoへデータを送信
        msg = str(uref) + 'e'
        ser.write(msg.encode()) 
        ser.flush()
    
        # Arduinoからデータを受信
        buf = ser.readline().decode('utf8').strip()
        line = buf.split()
        if len(line) > 2:
            ang = float(line[1])
            t = np.append(t, float(line[0]))
            y = np.append(y, float(line[1]))
            u = np.append(u, float(line[2]))
        
            if float(line[0]) >= Tend:
                break

    ser.close()
